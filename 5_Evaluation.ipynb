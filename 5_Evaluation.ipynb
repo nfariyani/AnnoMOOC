{
 "cells": [
  {
   "cell_type": "code",
   "execution_count": 1,
   "metadata": {},
   "outputs": [],
   "source": [
    "import numpy as np\n",
    "import pickle\n",
    "from sklearn.metrics import precision_recall_fscore_support\n",
    "from sklearn.metrics import accuracy_score\n",
    "from sklearn.feature_extraction.text import TfidfVectorizer"
   ]
  },
  {
   "cell_type": "markdown",
   "metadata": {},
   "source": [
    "# Load Model Classifier"
   ]
  },
  {
   "cell_type": "code",
   "execution_count": 2,
   "metadata": {},
   "outputs": [],
   "source": [
    "#SVM\n",
    "svm =  pickle.load(open(\"data/model/svm_linear_model.pkl\", \"rb\"))\n",
    "svm_cv = pickle.load(open(\"data/model/svm_cv_model.pkl\", \"rb\"))\n",
    "svm_ada = pickle.load(open(\"data/model/svm_ada_model.pkl\", \"rb\"))\n",
    "svm_smt = pickle.load(open(\"data/model/svm_smt_model.pkl\", \"rb\"))\n",
    "\n",
    "# RandomForest\n",
    "rf = pickle.load(open(\"data/model/rf_model.pkl\", \"rb\"))\n",
    "rf_cv = pickle.load(open(\"data/model/rf_cv_model.pkl\", \"rb\"))\n",
    "rf_ada = pickle.load(open(\"data/model/rf_ada_model.pkl\", \"rb\"))\n",
    "rf_smt = pickle.load(open(\"data/model/rf_smt_model.pkl\", \"rb\"))\n",
    "\n",
    "#NaiveBayes\n",
    "nb = pickle.load(open(\"data/model/nb_model.pkl\", \"rb\"))\n",
    "nb_cv = pickle.load(open(\"data/model/nb_cv_model.pkl\", \"rb\"))\n",
    "nb_ada = pickle.load(open(\"data/model/nb_ada_model.pkl\", \"rb\"))\n",
    "nb_smt = pickle.load(open(\"data/model/nb_smt_model.pkl\", \"rb\"))\n",
    "\n",
    "#TFIDF\n",
    "tfidf = pickle.load(open(\"data/model/vectorizer.pkl\", \"rb\"))"
   ]
  },
  {
   "cell_type": "markdown",
   "metadata": {},
   "source": [
    "# Preproses Data Baru"
   ]
  },
  {
   "cell_type": "code",
   "execution_count": 3,
   "metadata": {},
   "outputs": [
    {
     "name": "stdout",
     "output_type": "stream",
     "text": [
      "[polyglot_data] Downloading package embeddings2.id to C:\\Users\\Purina\n",
      "[polyglot_data]     QA\\AppData\\Roaming\\polyglot_data...\n",
      "[polyglot_data]   Package embeddings2.id is already up-to-date!\n",
      "[polyglot_data] Downloading package pos2.id to C:\\Users\\Purina\n",
      "[polyglot_data]     QA\\AppData\\Roaming\\polyglot_data...\n",
      "[polyglot_data]   Package pos2.id is already up-to-date!\n"
     ]
    }
   ],
   "source": [
    "import json\n",
    "from tqdm import tqdm_notebook as tqdm\n",
    "from polyglot.downloader import downloader\n",
    "from polyglot.text import Text\n",
    "import re\n",
    "\n",
    "#download data pos tagging\n",
    "downloader.download(\"embeddings2.id\")\n",
    "downloader.download(\"pos2.id\")\n",
    "\n",
    "#membersihkan data text\n",
    "def cleanText (text):\n",
    "    textClear = re.sub ('[^ a-zA-Z]', ' ',text.lower())\n",
    "    return textClear\n",
    "\n",
    "def getPosTag(tagText):\n",
    "    jmlKata = len(tagText.split())\n",
    "    propn = 0\n",
    "    takso = 0\n",
    "    noun = 0\n",
    "    subyek = 0\n",
    "    posTag=Text(tagText, hint_language_code='id')\n",
    "\n",
    "    #menambahkan rule\n",
    "    listTag=['NOUN', 'PROPN']\n",
    "    bloom = open(\"data/taksonomi.txt\").read().splitlines()\n",
    "    subjek = open(\"data/subjek.txt\").read().splitlines()\n",
    "    \n",
    "    for kata in posTag.pos_tags:\n",
    "        if kata[0] in subjek:\n",
    "            subyek = 1\n",
    "        if kata[0] in bloom:\n",
    "            takso = 1\n",
    "        if kata[1] in listTag:\n",
    "            if kata[1] == 'PROPN':\n",
    "                propn = 1\n",
    "            noun += 1\n",
    "    propn = (propn/jmlKata)\n",
    "    takso = (takso/jmlKata)\n",
    "    noun = (noun/jmlKata)\n",
    "    \n",
    "    kalimat = [tagText]\n",
    "    tv = tfidf.transform(kalimat)\n",
    "    tv\n",
    "    features = tv.toarray()\n",
    "    features.shape\n",
    "    return [jmlKata, noun, propn, subyek, takso] + features.tolist()[0]\n",
    "\n",
    "def strToPredict(algo,string):\n",
    "    kalimat = cleanText(string)\n",
    "    ct = getPosTag(kalimat)\n",
    "    ftr=np.array(ct).reshape(1, -1)\n",
    "#     print(ftr)\n",
    "    hasil=algo.predict(ftr)\n",
    "    \n",
    "    if hasil == 0:\n",
    "        return \"Nama Mata Kuliah\"\n",
    "    elif hasil == 1:\n",
    "        return \"Deskripsi Mata Kuliah\"\n",
    "    elif hasil == 2:\n",
    "        return \"Capaian Pembelajaran\"\n",
    "    elif hasil == 3:\n",
    "        return \"Pokok Bahasan\""
   ]
  },
  {
   "cell_type": "markdown",
   "metadata": {},
   "source": [
    "# Uji Coba dengan Data Baru"
   ]
  },
  {
   "cell_type": "code",
   "execution_count": 4,
   "metadata": {},
   "outputs": [
    {
     "name": "stdout",
     "output_type": "stream",
     "text": [
      "hasil_svm:  Capaian Pembelajaran\n",
      "hasil_svm_cv:  Capaian Pembelajaran\n",
      "hasil_svm_ada:  Pokok Bahasan\n",
      "hasil_svm_smt:  Pokok Bahasan\n",
      "hasil_rf:  Capaian Pembelajaran\n",
      "hasil_rf_cv:  Capaian Pembelajaran\n",
      "hasil_rf_ada:  Capaian Pembelajaran\n",
      "hasil_rf_smt:  Capaian Pembelajaran\n",
      "hasil_nb:  Capaian Pembelajaran\n",
      "hasil_nb_cv:  Capaian Pembelajaran\n",
      "hasil_nb_ada:  Pokok Bahasan\n",
      "hasil_nb_smt:  Pokok Bahasan\n"
     ]
    }
   ],
   "source": [
    "text = 'This tutorial has been prepared for the beginners to help them understand the basic to advanced concepts related to Java Programming language.'\n",
    "\n",
    "print(\"hasil_svm: \", strToPredict(svm,text))\n",
    "print(\"hasil_svm_cv: \", strToPredict(svm_cv,text))\n",
    "print(\"hasil_svm_ada: \", strToPredict(svm_ada,text))\n",
    "print(\"hasil_svm_smt: \", strToPredict(svm_smt,text))\n",
    "\n",
    "print(\"hasil_rf: \", strToPredict(rf,text))\n",
    "print(\"hasil_rf_cv: \", strToPredict(rf_cv,text))\n",
    "print(\"hasil_rf_ada: \", strToPredict(rf_ada,text))\n",
    "print(\"hasil_rf_smt: \", strToPredict(rf_smt,text))\n",
    "\n",
    "print(\"hasil_nb: \", strToPredict(nb,text))\n",
    "print(\"hasil_nb_cv: \", strToPredict(nb_cv,text))\n",
    "print(\"hasil_nb_ada: \", strToPredict(nb_ada,text))\n",
    "print(\"hasil_nb_smt: \", strToPredict(nb_smt,text))"
   ]
  }
 ],
 "metadata": {
  "kernelspec": {
   "display_name": "Python 3",
   "language": "python",
   "name": "python3"
  },
  "language_info": {
   "codemirror_mode": {
    "name": "ipython",
    "version": 3
   },
   "file_extension": ".py",
   "mimetype": "text/x-python",
   "name": "python",
   "nbconvert_exporter": "python",
   "pygments_lexer": "ipython3",
   "version": "3.6.4"
  }
 },
 "nbformat": 4,
 "nbformat_minor": 2
}
