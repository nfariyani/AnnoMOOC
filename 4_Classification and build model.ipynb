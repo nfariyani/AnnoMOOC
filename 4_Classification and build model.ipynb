{
 "cells": [
  {
   "cell_type": "markdown",
   "metadata": {},
   "source": [
    "# Import"
   ]
  },
  {
   "cell_type": "code",
   "execution_count": 1,
   "metadata": {},
   "outputs": [],
   "source": [
    "import numpy as np\n",
    "from sklearn.metrics import accuracy_score\n",
    "from sklearn.metrics import precision_recall_fscore_support\n",
    "from sklearn.metrics import classification_report\n",
    "from sklearn.metrics import confusion_matrix\n",
    "from sklearn.model_selection import StratifiedKFold\n",
    "from sklearn.model_selection import cross_validate\n",
    "from collections import Counter\n",
    "import itertools\n",
    "import matplotlib.pyplot as plt\n",
    "import pickle"
   ]
  },
  {
   "cell_type": "code",
   "execution_count": 2,
   "metadata": {},
   "outputs": [],
   "source": [
    "class_names = ['nm','dm','cp','pb']\n",
    "def plot_confusion_matrix(cm, classes,\n",
    "                          normalize=False,\n",
    "                          title='Confusion matrix',\n",
    "                          cmap=plt.cm.Blues):\n",
    "    \"\"\"\n",
    "    This function prints and plots the confusion matrix.\n",
    "    Normalization can be applied by setting `normalize=True`.\n",
    "    \"\"\"\n",
    "    if normalize:\n",
    "        cm = cm.astype('float') / cm.sum(axis=1)[:, np.newaxis]\n",
    "        print(\"Normalized confusion matrix\")\n",
    "    else:\n",
    "        print('Confusion matrix, without normalization')\n",
    "\n",
    "    print(cm)\n",
    "\n",
    "    plt.imshow(cm, interpolation='nearest', cmap=cmap)\n",
    "    plt.title(title)\n",
    "    plt.colorbar()\n",
    "    tick_marks = np.arange(len(classes))\n",
    "    plt.xticks(tick_marks, classes, rotation=45)\n",
    "    plt.yticks(tick_marks, classes)\n",
    "\n",
    "    fmt = '.2f' if normalize else 'd'\n",
    "    thresh = cm.max() / 2.\n",
    "    for i, j in itertools.product(range(cm.shape[0]), range(cm.shape[1])):\n",
    "        plt.text(j, i, format(cm[i, j], fmt),\n",
    "                 horizontalalignment=\"center\",\n",
    "                 color=\"white\" if cm[i, j] > thresh else \"black\")\n",
    "\n",
    "    plt.ylabel('True label')\n",
    "    plt.xlabel('Predicted label')\n",
    "    plt.tight_layout()"
   ]
  },
  {
   "cell_type": "markdown",
   "metadata": {},
   "source": [
    "# Load Dataset"
   ]
  },
  {
   "cell_type": "code",
   "execution_count": 3,
   "metadata": {},
   "outputs": [],
   "source": [
    "#untuk crossval\n",
    "x = np.load(\"data/data_split/X.npy\")\n",
    "y = np.load(\"data/data_split/y.npy\")\n",
    "scoring={'prec':'precision_micro','rec':'recall_micro','acc':'accuracy'}\n",
    "\n",
    "#non-crossval\n",
    "X_train = np.load(\"data/data_split/X_train.npy\")\n",
    "y_train = np.load(\"data/data_split/y_train.npy\")\n",
    "X_test = np.load(\"data/data_split/X_test.npy\")\n",
    "y_test = np.load(\"data/data_split/y_test.npy\")\n",
    "\n",
    "#SMOTE\n",
    "ftr_smt = np.load('data/oversampling/ftr_smote.npy')\n",
    "cls_smt = np.load('data/oversampling/cls_smote.npy')\n",
    "\n",
    "#ADASYN\n",
    "ftr_ada = np.load('data/oversampling/ftr_adasyn.npy')\n",
    "cls_ada = np.load('data/oversampling/cls_adasyn.npy')"
   ]
  },
  {
   "cell_type": "markdown",
   "metadata": {},
   "source": [
    "# Random Forest"
   ]
  },
  {
   "cell_type": "code",
   "execution_count": 4,
   "metadata": {},
   "outputs": [
    {
     "data": {
      "text/plain": [
       "RandomForestClassifier(bootstrap=True, class_weight=None, criterion='gini',\n",
       "            max_depth=None, max_features='auto', max_leaf_nodes=None,\n",
       "            min_impurity_decrease=0.0, min_impurity_split=None,\n",
       "            min_samples_leaf=1, min_samples_split=2,\n",
       "            min_weight_fraction_leaf=0.0, n_estimators=100, n_jobs=None,\n",
       "            oob_score=False, random_state=0, verbose=0, warm_start=False)"
      ]
     },
     "execution_count": 4,
     "metadata": {},
     "output_type": "execute_result"
    }
   ],
   "source": [
    "from sklearn.ensemble import RandomForestClassifier\n",
    "RandomForest = RandomForestClassifier(n_estimators=100, random_state=0)\n",
    "RandomForest"
   ]
  },
  {
   "cell_type": "markdown",
   "metadata": {},
   "source": [
    "#### Data splitted 33:67"
   ]
  },
  {
   "cell_type": "code",
   "execution_count": 5,
   "metadata": {},
   "outputs": [
    {
     "name": "stdout",
     "output_type": "stream",
     "text": [
      "Akurasi 0.9306666666666666\n",
      "              precision    recall  f1-score   support\n",
      "\n",
      "     class 0       0.95      0.98      0.96       124\n",
      "     class 1       0.94      0.96      0.95       124\n",
      "     class 2       0.90      0.90      0.90       120\n",
      "     class 3       0.00      0.00      0.00         7\n",
      "\n",
      "   micro avg       0.93      0.93      0.93       375\n",
      "   macro avg       0.70      0.71      0.70       375\n",
      "weighted avg       0.91      0.93      0.92       375\n",
      "\n"
     ]
    },
    {
     "name": "stderr",
     "output_type": "stream",
     "text": [
      "c:\\users\\purina qa\\appdata\\local\\programs\\python\\python36\\lib\\site-packages\\sklearn\\metrics\\classification.py:1143: UndefinedMetricWarning: Precision and F-score are ill-defined and being set to 0.0 in labels with no predicted samples.\n",
      "  'precision', 'predicted', average, warn_for)\n"
     ]
    }
   ],
   "source": [
    "RF = RandomForest.fit(X_train, y_train)\n",
    "\n",
    "y_RF = RF.predict(X_test)\n",
    "print('Akurasi', accuracy_score(y_test, y_RF))\n",
    "target_names = ['class 0', 'class 1', 'class 2', 'class 3']\n",
    "print(classification_report(y_test, y_RF, target_names=target_names))\n",
    "\n",
    "with open('data/model/rf_model.pkl', 'wb') as rft:\n",
    "    pickle.dump(RF, rft)"
   ]
  },
  {
   "cell_type": "code",
   "execution_count": 6,
   "metadata": {},
   "outputs": [
    {
     "name": "stdout",
     "output_type": "stream",
     "text": [
      "Confusion matrix, without normalization\n",
      "[[122   0   2   0]\n",
      " [  0 119   5   0]\n",
      " [  5   7 108   0]\n",
      " [  2   0   5   0]]\n"
     ]
    },
    {
     "data": {
      "image/png": "[encoded data removed]",
      "text/plain": [
       "<Figure size 432x288 with 2 Axes>"
      ]
     },
     "metadata": {
      "needs_background": "light"
     },
     "output_type": "display_data"
    }
   ],
   "source": [
    "# Compute confusion matrix\n",
    "rf_matrix = confusion_matrix(y_test, y_RF)\n",
    "np.set_printoptions(precision=2)\n",
    "plt.figure()\n",
    "plot_confusion_matrix(rf_matrix, classes=class_names,\n",
    "                      title='Random Forest - Dataset Rasio')"
   ]
  },
  {
   "cell_type": "markdown",
   "metadata": {},
   "source": [
    "#### Data Cross Validate"
   ]
  },
  {
   "cell_type": "code",
   "execution_count": 7,
   "metadata": {
    "scrolled": true
   },
   "outputs": [
    {
     "name": "stdout",
     "output_type": "stream",
     "text": [
      "Akurasi 0.7478260869565218\n",
      "              precision    recall  f1-score   support\n",
      "\n",
      "     class 0       0.79      1.00      0.88        38\n",
      "     class 1       1.00      0.47      0.64        38\n",
      "     class 2       0.61      0.81      0.70        37\n",
      "     class 3       0.00      0.00      0.00         2\n",
      "\n",
      "   micro avg       0.75      0.75      0.75       115\n",
      "   macro avg       0.60      0.57      0.56       115\n",
      "weighted avg       0.79      0.75      0.73       115\n",
      "\n"
     ]
    },
    {
     "name": "stderr",
     "output_type": "stream",
     "text": [
      "c:\\users\\purina qa\\appdata\\local\\programs\\python\\python36\\lib\\site-packages\\sklearn\\metrics\\classification.py:1143: UndefinedMetricWarning: Precision and F-score are ill-defined and being set to 0.0 in labels with no predicted samples.\n",
      "  'precision', 'predicted', average, warn_for)\n"
     ]
    },
    {
     "name": "stdout",
     "output_type": "stream",
     "text": [
      "Akurasi 0.9565217391304348\n",
      "              precision    recall  f1-score   support\n",
      "\n",
      "     class 0       0.95      0.97      0.96        38\n",
      "     class 1       0.97      0.97      0.97        38\n",
      "     class 2       0.95      0.97      0.96        37\n",
      "     class 3       0.00      0.00      0.00         2\n",
      "\n",
      "   micro avg       0.96      0.96      0.96       115\n",
      "   macro avg       0.72      0.73      0.72       115\n",
      "weighted avg       0.94      0.96      0.95       115\n",
      "\n"
     ]
    },
    {
     "name": "stderr",
     "output_type": "stream",
     "text": [
      "c:\\users\\purina qa\\appdata\\local\\programs\\python\\python36\\lib\\site-packages\\sklearn\\metrics\\classification.py:1143: UndefinedMetricWarning: Precision and F-score are ill-defined and being set to 0.0 in labels with no predicted samples.\n",
      "  'precision', 'predicted', average, warn_for)\n"
     ]
    },
    {
     "name": "stdout",
     "output_type": "stream",
     "text": [
      "Akurasi 0.9565217391304348\n",
      "              precision    recall  f1-score   support\n",
      "\n",
      "     class 0       1.00      0.97      0.99        38\n",
      "     class 1       0.95      1.00      0.97        38\n",
      "     class 2       0.92      0.95      0.93        37\n",
      "     class 3       0.00      0.00      0.00         2\n",
      "\n",
      "   micro avg       0.96      0.96      0.96       115\n",
      "   macro avg       0.72      0.73      0.72       115\n",
      "weighted avg       0.94      0.96      0.95       115\n",
      "\n"
     ]
    },
    {
     "name": "stderr",
     "output_type": "stream",
     "text": [
      "c:\\users\\purina qa\\appdata\\local\\programs\\python\\python36\\lib\\site-packages\\sklearn\\metrics\\classification.py:1143: UndefinedMetricWarning: Precision and F-score are ill-defined and being set to 0.0 in labels with no predicted samples.\n",
      "  'precision', 'predicted', average, warn_for)\n"
     ]
    },
    {
     "name": "stdout",
     "output_type": "stream",
     "text": [
      "Akurasi 0.9478260869565217\n",
      "              precision    recall  f1-score   support\n",
      "\n",
      "     class 0       0.97      1.00      0.99        38\n",
      "     class 1       0.93      0.97      0.95        38\n",
      "     class 2       0.94      0.92      0.93        37\n",
      "     class 3       0.00      0.00      0.00         2\n",
      "\n",
      "   micro avg       0.95      0.95      0.95       115\n",
      "   macro avg       0.71      0.72      0.72       115\n",
      "weighted avg       0.93      0.95      0.94       115\n",
      "\n"
     ]
    },
    {
     "name": "stderr",
     "output_type": "stream",
     "text": [
      "c:\\users\\purina qa\\appdata\\local\\programs\\python\\python36\\lib\\site-packages\\sklearn\\metrics\\classification.py:1143: UndefinedMetricWarning: Precision and F-score are ill-defined and being set to 0.0 in labels with no predicted samples.\n",
      "  'precision', 'predicted', average, warn_for)\n"
     ]
    },
    {
     "name": "stdout",
     "output_type": "stream",
     "text": [
      "Akurasi 0.9304347826086956\n",
      "              precision    recall  f1-score   support\n",
      "\n",
      "     class 0       1.00      1.00      1.00        38\n",
      "     class 1       0.90      0.95      0.92        38\n",
      "     class 2       0.89      0.89      0.89        37\n",
      "     class 3       0.00      0.00      0.00         2\n",
      "\n",
      "   micro avg       0.93      0.93      0.93       115\n",
      "   macro avg       0.70      0.71      0.70       115\n",
      "weighted avg       0.91      0.93      0.92       115\n",
      "\n"
     ]
    },
    {
     "name": "stderr",
     "output_type": "stream",
     "text": [
      "c:\\users\\purina qa\\appdata\\local\\programs\\python\\python36\\lib\\site-packages\\sklearn\\metrics\\classification.py:1143: UndefinedMetricWarning: Precision and F-score are ill-defined and being set to 0.0 in labels with no predicted samples.\n",
      "  'precision', 'predicted', average, warn_for)\n"
     ]
    },
    {
     "name": "stdout",
     "output_type": "stream",
     "text": [
      "Akurasi 0.9469026548672567\n",
      "              precision    recall  f1-score   support\n",
      "\n",
      "     class 0       0.97      0.97      0.97        38\n",
      "     class 1       0.93      1.00      0.96        37\n",
      "     class 2       0.94      0.92      0.93        36\n",
      "     class 3       0.00      0.00      0.00         2\n",
      "\n",
      "   micro avg       0.95      0.95      0.95       113\n",
      "   macro avg       0.71      0.72      0.72       113\n",
      "weighted avg       0.93      0.95      0.94       113\n",
      "\n"
     ]
    },
    {
     "name": "stderr",
     "output_type": "stream",
     "text": [
      "c:\\users\\purina qa\\appdata\\local\\programs\\python\\python36\\lib\\site-packages\\sklearn\\metrics\\classification.py:1143: UndefinedMetricWarning: Precision and F-score are ill-defined and being set to 0.0 in labels with no predicted samples.\n",
      "  'precision', 'predicted', average, warn_for)\n"
     ]
    },
    {
     "name": "stdout",
     "output_type": "stream",
     "text": [
      "Akurasi 0.9642857142857143\n",
      "              precision    recall  f1-score   support\n",
      "\n",
      "     class 0       1.00      1.00      1.00        37\n",
      "     class 1       0.95      1.00      0.97        37\n",
      "     class 2       0.94      0.94      0.94        36\n",
      "     class 3       0.00      0.00      0.00         2\n",
      "\n",
      "   micro avg       0.96      0.96      0.96       112\n",
      "   macro avg       0.72      0.74      0.73       112\n",
      "weighted avg       0.95      0.96      0.96       112\n",
      "\n"
     ]
    },
    {
     "name": "stderr",
     "output_type": "stream",
     "text": [
      "c:\\users\\purina qa\\appdata\\local\\programs\\python\\python36\\lib\\site-packages\\sklearn\\metrics\\classification.py:1143: UndefinedMetricWarning: Precision and F-score are ill-defined and being set to 0.0 in labels with no predicted samples.\n",
      "  'precision', 'predicted', average, warn_for)\n"
     ]
    },
    {
     "name": "stdout",
     "output_type": "stream",
     "text": [
      "Akurasi 0.9553571428571429\n",
      "              precision    recall  f1-score   support\n",
      "\n",
      "     class 0       0.95      1.00      0.97        37\n",
      "     class 1       0.95      0.97      0.96        37\n",
      "     class 2       0.97      0.94      0.96        36\n",
      "     class 3       0.00      0.00      0.00         2\n",
      "\n",
      "   micro avg       0.96      0.96      0.96       112\n",
      "   macro avg       0.72      0.73      0.72       112\n",
      "weighted avg       0.94      0.96      0.95       112\n",
      "\n"
     ]
    },
    {
     "name": "stderr",
     "output_type": "stream",
     "text": [
      "c:\\users\\purina qa\\appdata\\local\\programs\\python\\python36\\lib\\site-packages\\sklearn\\metrics\\classification.py:1143: UndefinedMetricWarning: Precision and F-score are ill-defined and being set to 0.0 in labels with no predicted samples.\n",
      "  'precision', 'predicted', average, warn_for)\n"
     ]
    },
    {
     "name": "stdout",
     "output_type": "stream",
     "text": [
      "Akurasi 0.9464285714285714\n",
      "              precision    recall  f1-score   support\n",
      "\n",
      "     class 0       1.00      0.97      0.99        37\n",
      "     class 1       0.92      0.97      0.95        37\n",
      "     class 2       0.92      0.94      0.93        36\n",
      "     class 3       0.00      0.00      0.00         2\n",
      "\n",
      "   micro avg       0.95      0.95      0.95       112\n",
      "   macro avg       0.71      0.72      0.72       112\n",
      "weighted avg       0.93      0.95      0.94       112\n",
      "\n"
     ]
    },
    {
     "name": "stderr",
     "output_type": "stream",
     "text": [
      "c:\\users\\purina qa\\appdata\\local\\programs\\python\\python36\\lib\\site-packages\\sklearn\\metrics\\classification.py:1143: UndefinedMetricWarning: Precision and F-score are ill-defined and being set to 0.0 in labels with no predicted samples.\n",
      "  'precision', 'predicted', average, warn_for)\n"
     ]
    },
    {
     "name": "stdout",
     "output_type": "stream",
     "text": [
      "Akurasi 0.8839285714285714\n",
      "              precision    recall  f1-score   support\n",
      "\n",
      "     class 0       0.89      0.92      0.91        37\n",
      "     class 1       0.90      1.00      0.95        37\n",
      "     class 2       0.85      0.78      0.81        36\n",
      "     class 3       0.00      0.00      0.00         2\n",
      "\n",
      "   micro avg       0.88      0.88      0.88       112\n",
      "   macro avg       0.66      0.67      0.67       112\n",
      "weighted avg       0.87      0.88      0.87       112\n",
      "\n"
     ]
    },
    {
     "name": "stderr",
     "output_type": "stream",
     "text": [
      "c:\\users\\purina qa\\appdata\\local\\programs\\python\\python36\\lib\\site-packages\\sklearn\\metrics\\classification.py:1143: UndefinedMetricWarning: Precision and F-score are ill-defined and being set to 0.0 in labels with no predicted samples.\n",
      "  'precision', 'predicted', average, warn_for)\n"
     ]
    }
   ],
   "source": [
    "skf = StratifiedKFold(n_splits=10)\n",
    "currentMax = 0\n",
    "\n",
    "for train_index, test_index in skf.split(x, y):\n",
    "    X_train_cv, X_test_cv = x[train_index], x[test_index]\n",
    "    y_train_cv, y_test_cv = y[train_index], y[test_index]\n",
    "    \n",
    "    RFc = RandomForest.fit(X_train_cv, y_train_cv)\n",
    "    y_RF_cv = RFc.predict(X_test_cv)\n",
    "    akurasi = accuracy_score(y_test_cv, y_RF_cv)\n",
    "    \n",
    "    print ('Akurasi', akurasi)\n",
    "    target_names = ['class 0', 'class 1', 'class 2', 'class 3']\n",
    "    print(classification_report(y_test_cv, y_RF_cv, target_names=target_names))\n",
    "    \n",
    "    if(currentMax  < akurasi):\n",
    "        currentMax = akurasi\n",
    "        y_test_cv_fix = y_test_cv\n",
    "        y_RF_cv_fix = y_RF_cv\n",
    "        with open('data/model/rf_cv_model.pkl', 'wb') as rfc:\n",
    "            pickle.dump(RFc, rfc)"
   ]
  },
  {
   "cell_type": "code",
   "execution_count": 8,
   "metadata": {},
   "outputs": [
    {
     "name": "stdout",
     "output_type": "stream",
     "text": [
      "Confusion matrix, without normalization\n",
      "[[37  0  0  0]\n",
      " [ 0 37  0  0]\n",
      " [ 0  2 34  0]\n",
      " [ 0  0  2  0]]\n"
     ]
    },
    {
     "data": {
      "image/png": "[encoded data removed]",
      "text/plain": [
       "<Figure size 432x288 with 2 Axes>"
      ]
     },
     "metadata": {
      "needs_background": "light"
     },
     "output_type": "display_data"
    }
   ],
   "source": [
    "# Compute confusion matrix\n",
    "rfcv_matrix = confusion_matrix(y_test_cv_fix, y_RF_cv_fix)\n",
    "np.set_printoptions(precision=2)\n",
    "plt.figure()\n",
    "plot_confusion_matrix(rfcv_matrix, classes=class_names,\n",
    "                      title='Random Forest - Cross Val')"
   ]
  },
  {
   "cell_type": "markdown",
   "metadata": {},
   "source": [
    "#### Data Over Sampled - SMOTE"
   ]
  },
  {
   "cell_type": "code",
   "execution_count": 9,
   "metadata": {},
   "outputs": [
    {
     "name": "stdout",
     "output_type": "stream",
     "text": [
      "Akurasi 0.9253333333333333\n",
      "              precision    recall  f1-score   support\n",
      "\n",
      "     class 0       0.94      0.98      0.96       124\n",
      "     class 1       0.94      0.94      0.94       124\n",
      "     class 2       0.90      0.89      0.90       120\n",
      "     class 3       0.50      0.14      0.22         7\n",
      "\n",
      "   micro avg       0.93      0.93      0.93       375\n",
      "   macro avg       0.82      0.74      0.76       375\n",
      "weighted avg       0.92      0.93      0.92       375\n",
      "\n"
     ]
    }
   ],
   "source": [
    "RF_smt = RandomForest.fit(ftr_smt, cls_smt)\n",
    "\n",
    "y_RF_smt = RF_smt.predict(X_test)\n",
    "print('Akurasi', accuracy_score(y_test, y_RF_smt))\n",
    "target_names = ['class 0', 'class 1', 'class 2', 'class 3']\n",
    "print(classification_report(y_test, y_RF_smt, target_names=target_names))\n",
    "    \n",
    "with open('data/model/rf_smt_model.pkl', 'wb') as rfs:\n",
    "    pickle.dump(RF_smt, rfs)"
   ]
  },
  {
   "cell_type": "code",
   "execution_count": 10,
   "metadata": {},
   "outputs": [
    {
     "name": "stdout",
     "output_type": "stream",
     "text": [
      "Confusion matrix, without normalization\n",
      "[[122   0   2   0]\n",
      " [  0 117   6   1]\n",
      " [  6   7 107   0]\n",
      " [  2   0   4   1]]\n"
     ]
    },
    {
     "data": {
      "image/png": "[encoded data removed]",
      "text/plain": [
       "<Figure size 432x288 with 2 Axes>"
      ]
     },
     "metadata": {
      "needs_background": "light"
     },
     "output_type": "display_data"
    }
   ],
   "source": [
    "# Compute confusion matrix\n",
    "rfsmt_matrix = confusion_matrix(y_test, y_RF_smt)\n",
    "np.set_printoptions(precision=2)\n",
    "plt.figure()\n",
    "plot_confusion_matrix(rfsmt_matrix, classes=class_names,\n",
    "                      title='Random Forest - SMOTE')"
   ]
  },
  {
   "cell_type": "markdown",
   "metadata": {},
   "source": [
    "#### Data Over Sampled - Adasyn"
   ]
  },
  {
   "cell_type": "code",
   "execution_count": 11,
   "metadata": {},
   "outputs": [
    {
     "name": "stdout",
     "output_type": "stream",
     "text": [
      "0.9333333333333333\n",
      "              precision    recall  f1-score   support\n",
      "\n",
      "     class 0       0.95      0.99      0.97       124\n",
      "     class 1       0.94      0.95      0.95       124\n",
      "     class 2       0.91      0.90      0.90       120\n",
      "     class 3       1.00      0.14      0.25         7\n",
      "\n",
      "   micro avg       0.93      0.93      0.93       375\n",
      "   macro avg       0.95      0.75      0.77       375\n",
      "weighted avg       0.93      0.93      0.93       375\n",
      "\n"
     ]
    }
   ],
   "source": [
    "RF_ada = RandomForest.fit(ftr_ada, cls_ada)\n",
    "\n",
    "y_RF_ada = RF_ada.predict(X_test)\n",
    "print(accuracy_score(y_test, y_RF_ada))\n",
    "target_names = ['class 0', 'class 1', 'class 2', 'class 3']\n",
    "print(classification_report(y_test, y_RF_ada, target_names=target_names))\n",
    "\n",
    "with open('data/model/rf_ada_model.pkl', 'wb') as rfa:\n",
    "    pickle.dump(RF_ada, rfa)"
   ]
  },
  {
   "cell_type": "code",
   "execution_count": 12,
   "metadata": {},
   "outputs": [
    {
     "name": "stdout",
     "output_type": "stream",
     "text": [
      "Confusion matrix, without normalization\n",
      "[[123   0   1   0]\n",
      " [  0 118   6   0]\n",
      " [  5   7 108   0]\n",
      " [  2   0   4   1]]\n"
     ]
    },
    {
     "data": {
      "image/png": "[encoded data removed]",
      "text/plain": [
       "<Figure size 432x288 with 2 Axes>"
      ]
     },
     "metadata": {
      "needs_background": "light"
     },
     "output_type": "display_data"
    }
   ],
   "source": [
    "# Compute confusion matrix\n",
    "rfada_matrix = confusion_matrix(y_test, y_RF_ada)\n",
    "np.set_printoptions(precision=2)\n",
    "plt.figure()\n",
    "plot_confusion_matrix(rfada_matrix, classes=class_names,\n",
    "                      title='Random Forest - ADASYN')"
   ]
  },
  {
   "cell_type": "markdown",
   "metadata": {},
   "source": [
    "# SVM"
   ]
  },
  {
   "cell_type": "code",
   "execution_count": 13,
   "metadata": {},
   "outputs": [
    {
     "data": {
      "text/plain": [
       "SVC(C=1.0, cache_size=200, class_weight=None, coef0=0.0,\n",
       "  decision_function_shape='ovr', degree=3, gamma='auto', kernel='linear',\n",
       "  max_iter=-1, probability=False, random_state=None, shrinking=True,\n",
       "  tol=0.001, verbose=False)"
      ]
     },
     "execution_count": 13,
     "metadata": {},
     "output_type": "execute_result"
    }
   ],
   "source": [
    "from sklearn import svm\n",
    "\n",
    "svm = svm.SVC(kernel='linear', gamma='auto')\n",
    "svm"
   ]
  },
  {
   "cell_type": "markdown",
   "metadata": {},
   "source": [
    "#### Data splitted 33:67"
   ]
  },
  {
   "cell_type": "code",
   "execution_count": 14,
   "metadata": {},
   "outputs": [
    {
     "name": "stdout",
     "output_type": "stream",
     "text": [
      "Akurasi 0.9306666666666666\n",
      "              precision    recall  f1-score   support\n",
      "\n",
      "     class 0       0.94      0.98      0.96       124\n",
      "     class 1       0.94      0.96      0.95       124\n",
      "     class 2       0.91      0.89      0.90       120\n",
      "     class 3       1.00      0.14      0.25         7\n",
      "\n",
      "   micro avg       0.93      0.93      0.93       375\n",
      "   macro avg       0.95      0.74      0.77       375\n",
      "weighted avg       0.93      0.93      0.92       375\n",
      "\n"
     ]
    }
   ],
   "source": [
    "svm_linear = svm.fit(X_train, y_train)\n",
    "\n",
    "y_SVM_lin = svm_linear.predict(X_test)\n",
    "print('Akurasi', accuracy_score(y_test, y_SVM_lin))\n",
    "target_names = ['class 0', 'class 1', 'class 2', 'class 3']\n",
    "print(classification_report(y_test, y_SVM_lin, target_names=target_names))\n",
    "\n",
    "#save model\n",
    "with open('data/model/svm_linear_model.pkl', 'wb') as sl:\n",
    "    pickle.dump(svm_linear, sl)"
   ]
  },
  {
   "cell_type": "code",
   "execution_count": 15,
   "metadata": {},
   "outputs": [
    {
     "name": "stdout",
     "output_type": "stream",
     "text": [
      "Confusion matrix, without normalization\n",
      "[[122   0   2   0]\n",
      " [  0 119   5   0]\n",
      " [  6   7 107   0]\n",
      " [  2   0   4   1]]\n"
     ]
    },
    {
     "data": {
      "image/png": "[encoded data removed]",
      "text/plain": [
       "<Figure size 432x288 with 2 Axes>"
      ]
     },
     "metadata": {
      "needs_background": "light"
     },
     "output_type": "display_data"
    }
   ],
   "source": [
    "# Compute confusion matrix\n",
    "svm_matrix = confusion_matrix(y_test, y_SVM_lin)\n",
    "np.set_printoptions(precision=2)\n",
    "plt.figure()\n",
    "plot_confusion_matrix(svm_matrix, classes=class_names,\n",
    "                      title='SVM')"
   ]
  },
  {
   "cell_type": "markdown",
   "metadata": {},
   "source": [
    "#### Data Cross Validate"
   ]
  },
  {
   "cell_type": "code",
   "execution_count": 16,
   "metadata": {
    "scrolled": true
   },
   "outputs": [
    {
     "name": "stdout",
     "output_type": "stream",
     "text": [
      "Akurasi 0.7652173913043478\n",
      "              precision    recall  f1-score   support\n",
      "\n",
      "     class 0       0.79      1.00      0.88        38\n",
      "     class 1       0.92      0.58      0.71        38\n",
      "     class 2       0.65      0.76      0.70        37\n",
      "     class 3       0.00      0.00      0.00         2\n",
      "\n",
      "   micro avg       0.77      0.77      0.77       115\n",
      "   macro avg       0.59      0.58      0.57       115\n",
      "weighted avg       0.77      0.77      0.75       115\n",
      "\n"
     ]
    },
    {
     "name": "stderr",
     "output_type": "stream",
     "text": [
      "c:\\users\\purina qa\\appdata\\local\\programs\\python\\python36\\lib\\site-packages\\sklearn\\metrics\\classification.py:1143: UndefinedMetricWarning: Precision and F-score are ill-defined and being set to 0.0 in labels with no predicted samples.\n",
      "  'precision', 'predicted', average, warn_for)\n"
     ]
    },
    {
     "name": "stdout",
     "output_type": "stream",
     "text": [
      "Akurasi 0.9565217391304348\n",
      "              precision    recall  f1-score   support\n",
      "\n",
      "     class 0       0.95      1.00      0.97        38\n",
      "     class 1       0.97      0.97      0.97        38\n",
      "     class 2       0.95      0.95      0.95        37\n",
      "     class 3       0.00      0.00      0.00         2\n",
      "\n",
      "   micro avg       0.96      0.96      0.96       115\n",
      "   macro avg       0.72      0.73      0.72       115\n",
      "weighted avg       0.94      0.96      0.95       115\n",
      "\n"
     ]
    },
    {
     "name": "stderr",
     "output_type": "stream",
     "text": [
      "c:\\users\\purina qa\\appdata\\local\\programs\\python\\python36\\lib\\site-packages\\sklearn\\metrics\\classification.py:1143: UndefinedMetricWarning: Precision and F-score are ill-defined and being set to 0.0 in labels with no predicted samples.\n",
      "  'precision', 'predicted', average, warn_for)\n"
     ]
    },
    {
     "name": "stdout",
     "output_type": "stream",
     "text": [
      "Akurasi 0.9565217391304348\n",
      "              precision    recall  f1-score   support\n",
      "\n",
      "     class 0       1.00      0.97      0.99        38\n",
      "     class 1       0.95      1.00      0.97        38\n",
      "     class 2       0.92      0.95      0.93        37\n",
      "     class 3       0.00      0.00      0.00         2\n",
      "\n",
      "   micro avg       0.96      0.96      0.96       115\n",
      "   macro avg       0.72      0.73      0.72       115\n",
      "weighted avg       0.94      0.96      0.95       115\n",
      "\n"
     ]
    },
    {
     "name": "stderr",
     "output_type": "stream",
     "text": [
      "c:\\users\\purina qa\\appdata\\local\\programs\\python\\python36\\lib\\site-packages\\sklearn\\metrics\\classification.py:1143: UndefinedMetricWarning: Precision and F-score are ill-defined and being set to 0.0 in labels with no predicted samples.\n",
      "  'precision', 'predicted', average, warn_for)\n"
     ]
    },
    {
     "name": "stdout",
     "output_type": "stream",
     "text": [
      "Akurasi 0.9304347826086956\n",
      "              precision    recall  f1-score   support\n",
      "\n",
      "     class 0       0.97      1.00      0.99        38\n",
      "     class 1       0.88      0.97      0.93        38\n",
      "     class 2       0.94      0.86      0.90        37\n",
      "     class 3       0.00      0.00      0.00         2\n",
      "\n",
      "   micro avg       0.93      0.93      0.93       115\n",
      "   macro avg       0.70      0.71      0.70       115\n",
      "weighted avg       0.92      0.93      0.92       115\n",
      "\n"
     ]
    },
    {
     "name": "stderr",
     "output_type": "stream",
     "text": [
      "c:\\users\\purina qa\\appdata\\local\\programs\\python\\python36\\lib\\site-packages\\sklearn\\metrics\\classification.py:1143: UndefinedMetricWarning: Precision and F-score are ill-defined and being set to 0.0 in labels with no predicted samples.\n",
      "  'precision', 'predicted', average, warn_for)\n"
     ]
    },
    {
     "name": "stdout",
     "output_type": "stream",
     "text": [
      "Akurasi 0.9217391304347826\n",
      "              precision    recall  f1-score   support\n",
      "\n",
      "     class 0       1.00      1.00      1.00        38\n",
      "     class 1       0.92      0.89      0.91        38\n",
      "     class 2       0.85      0.92      0.88        37\n",
      "     class 3       0.00      0.00      0.00         2\n",
      "\n",
      "   micro avg       0.92      0.92      0.92       115\n",
      "   macro avg       0.69      0.70      0.70       115\n",
      "weighted avg       0.91      0.92      0.91       115\n",
      "\n"
     ]
    },
    {
     "name": "stderr",
     "output_type": "stream",
     "text": [
      "c:\\users\\purina qa\\appdata\\local\\programs\\python\\python36\\lib\\site-packages\\sklearn\\metrics\\classification.py:1143: UndefinedMetricWarning: Precision and F-score are ill-defined and being set to 0.0 in labels with no predicted samples.\n",
      "  'precision', 'predicted', average, warn_for)\n"
     ]
    },
    {
     "name": "stdout",
     "output_type": "stream",
     "text": [
      "Akurasi 0.9557522123893806\n",
      "              precision    recall  f1-score   support\n",
      "\n",
      "     class 0       1.00      1.00      1.00        38\n",
      "     class 1       0.93      1.00      0.96        37\n",
      "     class 2       0.94      0.92      0.93        36\n",
      "     class 3       0.00      0.00      0.00         2\n",
      "\n",
      "   micro avg       0.96      0.96      0.96       113\n",
      "   macro avg       0.72      0.73      0.72       113\n",
      "weighted avg       0.94      0.96      0.95       113\n",
      "\n"
     ]
    },
    {
     "name": "stderr",
     "output_type": "stream",
     "text": [
      "c:\\users\\purina qa\\appdata\\local\\programs\\python\\python36\\lib\\site-packages\\sklearn\\metrics\\classification.py:1143: UndefinedMetricWarning: Precision and F-score are ill-defined and being set to 0.0 in labels with no predicted samples.\n",
      "  'precision', 'predicted', average, warn_for)\n"
     ]
    },
    {
     "name": "stdout",
     "output_type": "stream",
     "text": [
      "Akurasi 0.9553571428571429\n",
      "              precision    recall  f1-score   support\n",
      "\n",
      "     class 0       1.00      1.00      1.00        37\n",
      "     class 1       0.95      0.97      0.96        37\n",
      "     class 2       0.92      0.94      0.93        36\n",
      "     class 3       0.00      0.00      0.00         2\n",
      "\n",
      "   micro avg       0.96      0.96      0.96       112\n",
      "   macro avg       0.72      0.73      0.72       112\n",
      "weighted avg       0.94      0.96      0.95       112\n",
      "\n"
     ]
    },
    {
     "name": "stderr",
     "output_type": "stream",
     "text": [
      "c:\\users\\purina qa\\appdata\\local\\programs\\python\\python36\\lib\\site-packages\\sklearn\\metrics\\classification.py:1143: UndefinedMetricWarning: Precision and F-score are ill-defined and being set to 0.0 in labels with no predicted samples.\n",
      "  'precision', 'predicted', average, warn_for)\n"
     ]
    },
    {
     "name": "stdout",
     "output_type": "stream",
     "text": [
      "Akurasi 0.9553571428571429\n",
      "              precision    recall  f1-score   support\n",
      "\n",
      "     class 0       0.93      1.00      0.96        37\n",
      "     class 1       0.97      0.97      0.97        37\n",
      "     class 2       0.97      0.94      0.96        36\n",
      "     class 3       0.00      0.00      0.00         2\n",
      "\n",
      "   micro avg       0.96      0.96      0.96       112\n",
      "   macro avg       0.72      0.73      0.72       112\n",
      "weighted avg       0.94      0.96      0.95       112\n",
      "\n"
     ]
    },
    {
     "name": "stderr",
     "output_type": "stream",
     "text": [
      "c:\\users\\purina qa\\appdata\\local\\programs\\python\\python36\\lib\\site-packages\\sklearn\\metrics\\classification.py:1143: UndefinedMetricWarning: Precision and F-score are ill-defined and being set to 0.0 in labels with no predicted samples.\n",
      "  'precision', 'predicted', average, warn_for)\n"
     ]
    },
    {
     "name": "stdout",
     "output_type": "stream",
     "text": [
      "Akurasi 0.9642857142857143\n",
      "              precision    recall  f1-score   support\n",
      "\n",
      "     class 0       1.00      0.97      0.99        37\n",
      "     class 1       0.97      0.97      0.97        37\n",
      "     class 2       0.92      1.00      0.96        36\n",
      "     class 3       0.00      0.00      0.00         2\n",
      "\n",
      "   micro avg       0.96      0.96      0.96       112\n",
      "   macro avg       0.72      0.74      0.73       112\n",
      "weighted avg       0.95      0.96      0.96       112\n",
      "\n"
     ]
    },
    {
     "name": "stderr",
     "output_type": "stream",
     "text": [
      "c:\\users\\purina qa\\appdata\\local\\programs\\python\\python36\\lib\\site-packages\\sklearn\\metrics\\classification.py:1143: UndefinedMetricWarning: Precision and F-score are ill-defined and being set to 0.0 in labels with no predicted samples.\n",
      "  'precision', 'predicted', average, warn_for)\n"
     ]
    },
    {
     "name": "stdout",
     "output_type": "stream",
     "text": [
      "Akurasi 0.9196428571428571\n",
      "              precision    recall  f1-score   support\n",
      "\n",
      "     class 0       0.92      0.97      0.95        37\n",
      "     class 1       0.93      1.00      0.96        37\n",
      "     class 2       0.91      0.83      0.87        36\n",
      "     class 3       0.00      0.00      0.00         2\n",
      "\n",
      "   micro avg       0.92      0.92      0.92       112\n",
      "   macro avg       0.69      0.70      0.69       112\n",
      "weighted avg       0.90      0.92      0.91       112\n",
      "\n"
     ]
    },
    {
     "name": "stderr",
     "output_type": "stream",
     "text": [
      "c:\\users\\purina qa\\appdata\\local\\programs\\python\\python36\\lib\\site-packages\\sklearn\\metrics\\classification.py:1143: UndefinedMetricWarning: Precision and F-score are ill-defined and being set to 0.0 in labels with no predicted samples.\n",
      "  'precision', 'predicted', average, warn_for)\n"
     ]
    }
   ],
   "source": [
    "skf = StratifiedKFold(n_splits=10)\n",
    "currentMax=0\n",
    "\n",
    "for train_index, test_index in skf.split(x, y):\n",
    "    X_train_cv, X_test_cv = x[train_index], x[test_index]\n",
    "    y_train_cv, y_test_cv = y[train_index], y[test_index]\n",
    "    \n",
    "    svm_cv = svm.fit(X_train_cv, y_train_cv)\n",
    "    y_SVM_cv = svm_cv.predict(X_test_cv)\n",
    "    akurasi = accuracy_score(y_test_cv, y_SVM_cv)\n",
    "    print('Akurasi', akurasi)\n",
    "    target_names = ['class 0', 'class 1', 'class 2', 'class 3']\n",
    "    print(classification_report(y_test_cv, y_SVM_cv, target_names=target_names))\n",
    "    \n",
    "    if(currentMax  < akurasi):\n",
    "        currentMax = akurasi\n",
    "        y_test_cv_fix = y_test_cv\n",
    "        y_SVM_cv_fix = y_SVM_cv\n",
    "        with open('data/model/svm_cv_model.pkl', 'wb') as svmc:\n",
    "            pickle.dump(svm_cv, svmc)"
   ]
  },
  {
   "cell_type": "code",
   "execution_count": 17,
   "metadata": {},
   "outputs": [
    {
     "name": "stdout",
     "output_type": "stream",
     "text": [
      "Confusion matrix, without normalization\n",
      "[[36  0  1  0]\n",
      " [ 0 36  1  0]\n",
      " [ 0  0 36  0]\n",
      " [ 0  1  1  0]]\n"
     ]
    },
    {
     "data": {
      "image/png": "[encoded data removed]",
      "text/plain": [
       "<Figure size 432x288 with 2 Axes>"
      ]
     },
     "metadata": {
      "needs_background": "light"
     },
     "output_type": "display_data"
    }
   ],
   "source": [
    "# Compute confusion matrix\n",
    "svmcv_matrix = confusion_matrix(y_test_cv_fix, y_SVM_cv_fix)\n",
    "np.set_printoptions(precision=2)\n",
    "plt.figure()\n",
    "plot_confusion_matrix(svmcv_matrix, classes=class_names,\n",
    "                      title='SVM - Cross  Val')"
   ]
  },
  {
   "cell_type": "markdown",
   "metadata": {},
   "source": [
    "#### Data Over Sampled - SMOTE"
   ]
  },
  {
   "cell_type": "code",
   "execution_count": 18,
   "metadata": {},
   "outputs": [
    {
     "name": "stdout",
     "output_type": "stream",
     "text": [
      "Akurasi 0.9226666666666666\n",
      "              precision    recall  f1-score   support\n",
      "\n",
      "     class 0       0.93      0.98      0.96       124\n",
      "     class 1       0.95      0.98      0.96       124\n",
      "     class 2       0.94      0.84      0.89       120\n",
      "     class 3       0.25      0.29      0.27         7\n",
      "\n",
      "   micro avg       0.92      0.92      0.92       375\n",
      "   macro avg       0.77      0.77      0.77       375\n",
      "weighted avg       0.92      0.92      0.92       375\n",
      "\n"
     ]
    }
   ],
   "source": [
    "svm_smt = svm.fit(ftr_smt, cls_smt)\n",
    "\n",
    "y_SVM_smt = svm_smt.predict(X_test)\n",
    "print('Akurasi', accuracy_score(y_test, y_SVM_smt))\n",
    "target_names = ['class 0', 'class 1', 'class 2', 'class 3']\n",
    "print(classification_report(y_test, y_SVM_smt, target_names=target_names))\n",
    "\n",
    "#save model\n",
    "with open('data/model/svm_smt_model.pkl', 'wb') as ss:\n",
    "    pickle.dump(svm_smt, ss)"
   ]
  },
  {
   "cell_type": "code",
   "execution_count": 19,
   "metadata": {},
   "outputs": [
    {
     "name": "stdout",
     "output_type": "stream",
     "text": [
      "Confusion matrix, without normalization\n",
      "[[122   0   2   0]\n",
      " [  0 121   2   1]\n",
      " [  7   7 101   5]\n",
      " [  2   0   3   2]]\n"
     ]
    },
    {
     "data": {
      "image/png": "[encoded data removed]",
      "text/plain": [
       "<Figure size 432x288 with 2 Axes>"
      ]
     },
     "metadata": {
      "needs_background": "light"
     },
     "output_type": "display_data"
    }
   ],
   "source": [
    "# Compute confusion matrix\n",
    "svmsmt_matrix = confusion_matrix(y_test, y_SVM_smt)\n",
    "np.set_printoptions(precision=2)\n",
    "plt.figure()\n",
    "plot_confusion_matrix(svmsmt_matrix, classes=class_names,\n",
    "                      title='SVM - SMOTE')"
   ]
  },
  {
   "cell_type": "markdown",
   "metadata": {},
   "source": [
    "#### Data Over Sampled - Adasyn"
   ]
  },
  {
   "cell_type": "code",
   "execution_count": 20,
   "metadata": {},
   "outputs": [
    {
     "name": "stdout",
     "output_type": "stream",
     "text": [
      "SVM Test\n",
      "Akurasi 0.9226666666666666\n",
      "              precision    recall  f1-score   support\n",
      "\n",
      "     class 0       0.93      0.98      0.96       124\n",
      "     class 1       0.95      0.98      0.96       124\n",
      "     class 2       0.94      0.84      0.89       120\n",
      "     class 3       0.25      0.29      0.27         7\n",
      "\n",
      "   micro avg       0.92      0.92      0.92       375\n",
      "   macro avg       0.77      0.77      0.77       375\n",
      "weighted avg       0.92      0.92      0.92       375\n",
      "\n"
     ]
    }
   ],
   "source": [
    "svm_ada = svm.fit(ftr_ada, cls_ada)\n",
    "\n",
    "print('SVM Test')\n",
    "y_SVM_ada = svm_ada.predict(X_test)\n",
    "print('Akurasi', accuracy_score(y_test, y_SVM_ada))\n",
    "target_names = ['class 0', 'class 1', 'class 2', 'class 3']\n",
    "print(classification_report(y_test, y_SVM_ada, target_names=target_names))\n",
    "\n",
    "#save model\n",
    "with open('data/model/svm_ada_model.pkl', 'wb') as sal:\n",
    "    pickle.dump(svm_ada, sal)"
   ]
  },
  {
   "cell_type": "code",
   "execution_count": 21,
   "metadata": {},
   "outputs": [
    {
     "name": "stdout",
     "output_type": "stream",
     "text": [
      "Confusion matrix, without normalization\n",
      "[[122   0   2   0]\n",
      " [  0 121   2   1]\n",
      " [  7   7 101   5]\n",
      " [  2   0   3   2]]\n"
     ]
    },
    {
     "data": {
      "image/png": "[encoded data removed]",
      "text/plain": [
       "<Figure size 432x288 with 2 Axes>"
      ]
     },
     "metadata": {
      "needs_background": "light"
     },
     "output_type": "display_data"
    }
   ],
   "source": [
    "# Compute confusion matrix\n",
    "svmada_matrix = confusion_matrix(y_test, y_SVM_ada)\n",
    "np.set_printoptions(precision=2)\n",
    "plt.figure()\n",
    "plot_confusion_matrix(svmada_matrix, classes=class_names,\n",
    "                      title='SVM - ADASYN')"
   ]
  },
  {
   "cell_type": "markdown",
   "metadata": {},
   "source": [
    "# Naive Bayes"
   ]
  },
  {
   "cell_type": "code",
   "execution_count": 22,
   "metadata": {},
   "outputs": [
    {
     "data": {
      "text/plain": [
       "MultinomialNB(alpha=1, class_prior=None, fit_prior=True)"
      ]
     },
     "execution_count": 22,
     "metadata": {},
     "output_type": "execute_result"
    }
   ],
   "source": [
    "from sklearn.naive_bayes import MultinomialNB\n",
    "\n",
    "nb = MultinomialNB(alpha=1)\n",
    "nb"
   ]
  },
  {
   "cell_type": "markdown",
   "metadata": {},
   "source": [
    "#### Data splitted 33:67"
   ]
  },
  {
   "cell_type": "code",
   "execution_count": 23,
   "metadata": {},
   "outputs": [
    {
     "name": "stdout",
     "output_type": "stream",
     "text": [
      "Akurasi 0.9066666666666666\n",
      "              precision    recall  f1-score   support\n",
      "\n",
      "     class 0       0.94      0.95      0.95       124\n",
      "     class 1       0.91      0.95      0.93       124\n",
      "     class 2       0.86      0.87      0.86       120\n",
      "     class 3       0.00      0.00      0.00         7\n",
      "\n",
      "   micro avg       0.91      0.91      0.91       375\n",
      "   macro avg       0.68      0.69      0.69       375\n",
      "weighted avg       0.89      0.91      0.90       375\n",
      "\n"
     ]
    },
    {
     "name": "stderr",
     "output_type": "stream",
     "text": [
      "c:\\users\\purina qa\\appdata\\local\\programs\\python\\python36\\lib\\site-packages\\sklearn\\metrics\\classification.py:1143: UndefinedMetricWarning: Precision and F-score are ill-defined and being set to 0.0 in labels with no predicted samples.\n",
      "  'precision', 'predicted', average, warn_for)\n"
     ]
    }
   ],
   "source": [
    "mnb = nb.fit(X_train, y_train)\n",
    "\n",
    "y_mnb = mnb.predict(X_test)\n",
    "print('Akurasi', accuracy_score(y_test, y_mnb))\n",
    "target_names = ['class 0', 'class 1', 'class 2', 'class 3']\n",
    "print(classification_report(y_test, y_mnb, target_names=target_names))\n",
    "\n",
    "with open('data/model/nb_model.pkl', 'wb') as nbm:\n",
    "    pickle.dump(mnb, nbm)"
   ]
  },
  {
   "cell_type": "code",
   "execution_count": 24,
   "metadata": {},
   "outputs": [
    {
     "name": "stdout",
     "output_type": "stream",
     "text": [
      "Confusion matrix, without normalization\n",
      "[[118   0   6   0]\n",
      " [  0 118   6   0]\n",
      " [  5  11 104   0]\n",
      " [  2   0   5   0]]\n"
     ]
    },
    {
     "data": {
      "image/png": "[encoded data removed]",
      "text/plain": [
       "<Figure size 432x288 with 2 Axes>"
      ]
     },
     "metadata": {
      "needs_background": "light"
     },
     "output_type": "display_data"
    }
   ],
   "source": [
    "# Compute confusion matrix\n",
    "nb_matrix = confusion_matrix(y_test, y_mnb)\n",
    "np.set_printoptions(precision=2)\n",
    "plt.figure()\n",
    "plot_confusion_matrix(nb_matrix, classes=class_names,\n",
    "                      title='Naive Bayes')"
   ]
  },
  {
   "cell_type": "markdown",
   "metadata": {},
   "source": [
    "#### Data Cross Validate"
   ]
  },
  {
   "cell_type": "code",
   "execution_count": 25,
   "metadata": {
    "scrolled": true
   },
   "outputs": [
    {
     "name": "stdout",
     "output_type": "stream",
     "text": [
      "Akurasi 0.8260869565217391\n",
      "              precision    recall  f1-score   support\n",
      "\n",
      "     class 0       0.88      0.95      0.91        38\n",
      "     class 1       0.90      0.71      0.79        38\n",
      "     class 2       0.73      0.86      0.79        37\n",
      "     class 3       0.00      0.00      0.00         2\n",
      "\n",
      "   micro avg       0.83      0.83      0.83       115\n",
      "   macro avg       0.63      0.63      0.62       115\n",
      "weighted avg       0.82      0.83      0.82       115\n",
      "\n",
      "Akurasi 0.9478260869565217\n",
      "              precision    recall  f1-score   support\n",
      "\n",
      "     class 0       0.95      0.97      0.96        38\n",
      "     class 1       0.95      1.00      0.97        38\n",
      "     class 2       0.94      0.92      0.93        37\n",
      "     class 3       0.00      0.00      0.00         2\n",
      "\n",
      "   micro avg       0.95      0.95      0.95       115\n",
      "   macro avg       0.71      0.72      0.72       115\n",
      "weighted avg       0.93      0.95      0.94       115\n",
      "\n",
      "Akurasi 0.9391304347826087\n",
      "              precision    recall  f1-score   support\n",
      "\n",
      "     class 0       1.00      0.95      0.97        38\n",
      "     class 1       0.93      1.00      0.96        38\n",
      "     class 2       0.89      0.92      0.91        37\n",
      "     class 3       0.00      0.00      0.00         2\n",
      "\n",
      "   micro avg       0.94      0.94      0.94       115\n",
      "   macro avg       0.71      0.72      0.71       115\n",
      "weighted avg       0.92      0.94      0.93       115\n",
      "\n",
      "Akurasi 0.8956521739130435\n",
      "              precision    recall  f1-score   support\n",
      "\n",
      "     class 0       0.97      0.92      0.95        38\n",
      "     class 1       0.84      1.00      0.92        38\n",
      "     class 2       0.88      0.81      0.85        37\n",
      "     class 3       0.00      0.00      0.00         2\n",
      "\n",
      "   micro avg       0.90      0.90      0.90       115\n",
      "   macro avg       0.67      0.68      0.68       115\n",
      "weighted avg       0.88      0.90      0.89       115\n",
      "\n",
      "Akurasi 0.8521739130434782\n",
      "              precision    recall  f1-score   support\n",
      "\n",
      "     class 0       0.97      0.89      0.93        38\n",
      "     class 1       0.80      0.95      0.87        38\n",
      "     class 2       0.80      0.76      0.78        37\n",
      "     class 3       0.00      0.00      0.00         2\n",
      "\n",
      "   micro avg       0.85      0.85      0.85       115\n",
      "   macro avg       0.64      0.65      0.64       115\n",
      "weighted avg       0.84      0.85      0.84       115\n",
      "\n",
      "Akurasi 0.911504424778761\n",
      "              precision    recall  f1-score   support\n",
      "\n",
      "     class 0       0.97      0.89      0.93        38\n",
      "     class 1       0.95      0.97      0.96        37\n",
      "     class 2       0.82      0.92      0.87        36\n",
      "     class 3       0.00      0.00      0.00         2\n",
      "\n",
      "   micro avg       0.91      0.91      0.91       113\n",
      "   macro avg       0.69      0.70      0.69       113\n",
      "weighted avg       0.90      0.91      0.90       113\n",
      "\n",
      "Akurasi 0.8839285714285714\n",
      "              precision    recall  f1-score   support\n",
      "\n",
      "     class 0       1.00      0.89      0.94        37\n",
      "     class 1       0.84      0.97      0.90        37\n",
      "     class 2       0.83      0.83      0.83        36\n",
      "     class 3       0.00      0.00      0.00         2\n",
      "\n",
      "   micro avg       0.88      0.88      0.88       112\n",
      "   macro avg       0.67      0.67      0.67       112\n",
      "weighted avg       0.87      0.88      0.88       112\n",
      "\n",
      "Akurasi 0.9285714285714286\n",
      "              precision    recall  f1-score   support\n",
      "\n",
      "     class 0       0.92      0.97      0.95        37\n",
      "     class 1       0.92      0.97      0.95        37\n",
      "     class 2       0.94      0.89      0.91        36\n",
      "     class 3       0.00      0.00      0.00         2\n",
      "\n",
      "   micro avg       0.93      0.93      0.93       112\n",
      "   macro avg       0.70      0.71      0.70       112\n",
      "weighted avg       0.91      0.93      0.92       112\n",
      "\n",
      "Akurasi 0.9553571428571429\n",
      "              precision    recall  f1-score   support\n",
      "\n",
      "     class 0       1.00      0.97      0.99        37\n",
      "     class 1       0.97      0.97      0.97        37\n",
      "     class 2       0.90      0.97      0.93        36\n",
      "     class 3       0.00      0.00      0.00         2\n",
      "\n",
      "   micro avg       0.96      0.96      0.96       112\n",
      "   macro avg       0.72      0.73      0.72       112\n",
      "weighted avg       0.94      0.96      0.95       112\n",
      "\n",
      "Akurasi 0.9017857142857143\n",
      "              precision    recall  f1-score   support\n",
      "\n",
      "     class 0       0.90      0.97      0.94        37\n",
      "     class 1       0.90      0.97      0.94        37\n",
      "     class 2       0.91      0.81      0.85        36\n",
      "     class 3       0.00      0.00      0.00         2\n",
      "\n",
      "   micro avg       0.90      0.90      0.90       112\n",
      "   macro avg       0.68      0.69      0.68       112\n",
      "weighted avg       0.89      0.90      0.89       112\n",
      "\n"
     ]
    },
    {
     "name": "stderr",
     "output_type": "stream",
     "text": [
      "c:\\users\\purina qa\\appdata\\local\\programs\\python\\python36\\lib\\site-packages\\sklearn\\metrics\\classification.py:1143: UndefinedMetricWarning: Precision and F-score are ill-defined and being set to 0.0 in labels with no predicted samples.\n",
      "  'precision', 'predicted', average, warn_for)\n",
      "c:\\users\\purina qa\\appdata\\local\\programs\\python\\python36\\lib\\site-packages\\sklearn\\metrics\\classification.py:1143: UndefinedMetricWarning: Precision and F-score are ill-defined and being set to 0.0 in labels with no predicted samples.\n",
      "  'precision', 'predicted', average, warn_for)\n",
      "c:\\users\\purina qa\\appdata\\local\\programs\\python\\python36\\lib\\site-packages\\sklearn\\metrics\\classification.py:1143: UndefinedMetricWarning: Precision and F-score are ill-defined and being set to 0.0 in labels with no predicted samples.\n",
      "  'precision', 'predicted', average, warn_for)\n",
      "c:\\users\\purina qa\\appdata\\local\\programs\\python\\python36\\lib\\site-packages\\sklearn\\metrics\\classification.py:1143: UndefinedMetricWarning: Precision and F-score are ill-defined and being set to 0.0 in labels with no predicted samples.\n",
      "  'precision', 'predicted', average, warn_for)\n",
      "c:\\users\\purina qa\\appdata\\local\\programs\\python\\python36\\lib\\site-packages\\sklearn\\metrics\\classification.py:1143: UndefinedMetricWarning: Precision and F-score are ill-defined and being set to 0.0 in labels with no predicted samples.\n",
      "  'precision', 'predicted', average, warn_for)\n",
      "c:\\users\\purina qa\\appdata\\local\\programs\\python\\python36\\lib\\site-packages\\sklearn\\metrics\\classification.py:1143: UndefinedMetricWarning: Precision and F-score are ill-defined and being set to 0.0 in labels with no predicted samples.\n",
      "  'precision', 'predicted', average, warn_for)\n",
      "c:\\users\\purina qa\\appdata\\local\\programs\\python\\python36\\lib\\site-packages\\sklearn\\metrics\\classification.py:1143: UndefinedMetricWarning: Precision and F-score are ill-defined and being set to 0.0 in labels with no predicted samples.\n",
      "  'precision', 'predicted', average, warn_for)\n",
      "c:\\users\\purina qa\\appdata\\local\\programs\\python\\python36\\lib\\site-packages\\sklearn\\metrics\\classification.py:1143: UndefinedMetricWarning: Precision and F-score are ill-defined and being set to 0.0 in labels with no predicted samples.\n",
      "  'precision', 'predicted', average, warn_for)\n",
      "c:\\users\\purina qa\\appdata\\local\\programs\\python\\python36\\lib\\site-packages\\sklearn\\metrics\\classification.py:1143: UndefinedMetricWarning: Precision and F-score are ill-defined and being set to 0.0 in labels with no predicted samples.\n",
      "  'precision', 'predicted', average, warn_for)\n",
      "c:\\users\\purina qa\\appdata\\local\\programs\\python\\python36\\lib\\site-packages\\sklearn\\metrics\\classification.py:1143: UndefinedMetricWarning: Precision and F-score are ill-defined and being set to 0.0 in labels with no predicted samples.\n",
      "  'precision', 'predicted', average, warn_for)\n"
     ]
    }
   ],
   "source": [
    "skf = StratifiedKFold(n_splits=10)\n",
    "currentMax=0\n",
    "\n",
    "for train_index, test_index in skf.split(x, y):\n",
    "    X_train_cv, X_test_cv = x[train_index], x[test_index]\n",
    "    y_train_cv, y_test_cv = y[train_index], y[test_index]\n",
    "    \n",
    "    nb_cv = nb.fit(X_train_cv, y_train_cv)\n",
    "    y_nb_cv = nb_cv.predict(X_test_cv)\n",
    "    akurasi = accuracy_score(y_test_cv, y_nb_cv)\n",
    "    \n",
    "    print('Akurasi', akurasi)\n",
    "    target_names = ['class 0', 'class 1', 'class 2', 'class 3']\n",
    "    print(classification_report(y_test_cv, y_nb_cv, target_names=target_names))\n",
    "    \n",
    "    if(currentMax  < akurasi):\n",
    "        currentMax = akurasi\n",
    "        y_test_cv_fix = y_test_cv\n",
    "        y_nb_cv_fix = y_nb_cv\n",
    "        with open('data/model/nb_cv_model.pkl', 'wb') as nbc:\n",
    "            pickle.dump(nb_cv, nbc)"
   ]
  },
  {
   "cell_type": "code",
   "execution_count": 26,
   "metadata": {},
   "outputs": [
    {
     "name": "stdout",
     "output_type": "stream",
     "text": [
      "Confusion matrix, without normalization\n",
      "[[36  0  1  0]\n",
      " [ 0 36  1  0]\n",
      " [ 0  1 35  0]\n",
      " [ 0  0  2  0]]\n"
     ]
    },
    {
     "data": {
      "image/png": "[encoded data removed]",
      "text/plain": [
       "<Figure size 432x288 with 2 Axes>"
      ]
     },
     "metadata": {
      "needs_background": "light"
     },
     "output_type": "display_data"
    }
   ],
   "source": [
    "# Compute confusion matrix\n",
    "nbcv_matrix = confusion_matrix(y_test_cv_fix, y_nb_cv_fix)\n",
    "np.set_printoptions(precision=2)\n",
    "plt.figure()\n",
    "plot_confusion_matrix(nbcv_matrix, classes=class_names,\n",
    "                      title='Naive Bayes - Cross Val')"
   ]
  },
  {
   "cell_type": "markdown",
   "metadata": {},
   "source": [
    "#### Data Over Sampled - SMOTE"
   ]
  },
  {
   "cell_type": "code",
   "execution_count": 27,
   "metadata": {},
   "outputs": [
    {
     "name": "stdout",
     "output_type": "stream",
     "text": [
      "NB Test\n",
      "0.8693333333333333\n",
      "              precision    recall  f1-score   support\n",
      "\n",
      "     class 0       0.96      0.94      0.95       124\n",
      "     class 1       0.91      0.94      0.92       124\n",
      "     class 2       0.90      0.76      0.82       120\n",
      "     class 3       0.12      0.43      0.18         7\n",
      "\n",
      "   micro avg       0.87      0.87      0.87       375\n",
      "   macro avg       0.72      0.76      0.72       375\n",
      "weighted avg       0.91      0.87      0.89       375\n",
      "\n"
     ]
    }
   ],
   "source": [
    "mnb_smt = nb.fit(ftr_smt, cls_smt)\n",
    "\n",
    "print('NB Test')\n",
    "y_mnb_smt = mnb_smt.predict(X_test)\n",
    "print(accuracy_score(y_test, y_mnb_smt))\n",
    "target_names = ['class 0', 'class 1', 'class 2', 'class 3']\n",
    "print(classification_report(y_test, y_mnb_smt, target_names=target_names))\n",
    "\n",
    "with open('data/model/nb_smt_model.pkl', 'wb') as nbs:\n",
    "    pickle.dump(mnb_smt, nbs)"
   ]
  },
  {
   "cell_type": "code",
   "execution_count": 28,
   "metadata": {},
   "outputs": [
    {
     "name": "stdout",
     "output_type": "stream",
     "text": [
      "Confusion matrix, without normalization\n",
      "[[116   0   2   6]\n",
      " [  0 116   5   3]\n",
      " [  4  11  91  14]\n",
      " [  1   0   3   3]]\n"
     ]
    },
    {
     "data": {
      "image/png": "[encoded data removed]",
      "text/plain": [
       "<Figure size 432x288 with 2 Axes>"
      ]
     },
     "metadata": {
      "needs_background": "light"
     },
     "output_type": "display_data"
    }
   ],
   "source": [
    "# Compute confusion matrix\n",
    "nbsmt_matrix = confusion_matrix(y_test, y_mnb_smt)\n",
    "np.set_printoptions(precision=2)\n",
    "plt.figure()\n",
    "plot_confusion_matrix(nbsmt_matrix, classes=class_names,\n",
    "                      title='Naive Bayes - SMOTE')"
   ]
  },
  {
   "cell_type": "markdown",
   "metadata": {},
   "source": [
    "#### Data Over Sampled - Adasyn"
   ]
  },
  {
   "cell_type": "code",
   "execution_count": 29,
   "metadata": {},
   "outputs": [
    {
     "name": "stdout",
     "output_type": "stream",
     "text": [
      "NB Test\n",
      "0.8693333333333333\n",
      "              precision    recall  f1-score   support\n",
      "\n",
      "     class 0       0.96      0.94      0.95       124\n",
      "     class 1       0.92      0.94      0.93       124\n",
      "     class 2       0.90      0.76      0.82       120\n",
      "     class 3       0.11      0.43      0.18         7\n",
      "\n",
      "   micro avg       0.87      0.87      0.87       375\n",
      "   macro avg       0.72      0.76      0.72       375\n",
      "weighted avg       0.91      0.87      0.89       375\n",
      "\n"
     ]
    }
   ],
   "source": [
    "mnb_ada = nb.fit(ftr_ada, cls_ada)\n",
    "\n",
    "print('NB Test')\n",
    "y_mnb_ada = mnb_ada.predict(X_test)\n",
    "print(accuracy_score(y_test, y_mnb_ada))\n",
    "target_names = ['class 0', 'class 1', 'class 2', 'class 3']\n",
    "print(classification_report(y_test, y_mnb_ada, target_names=target_names))\n",
    "\n",
    "with open('data/model/nb_ada_model.pkl', 'wb') as nba:\n",
    "    pickle.dump(mnb_ada, nba)"
   ]
  },
  {
   "cell_type": "code",
   "execution_count": 30,
   "metadata": {},
   "outputs": [
    {
     "name": "stdout",
     "output_type": "stream",
     "text": [
      "Confusion matrix, without normalization\n",
      "[[116   0   2   6]\n",
      " [  0 116   5   3]\n",
      " [  4  10  91  15]\n",
      " [  1   0   3   3]]\n"
     ]
    },
    {
     "data": {
      "image/png": "[encoded data removed]",
      "text/plain": [
       "<Figure size 432x288 with 2 Axes>"
      ]
     },
     "metadata": {
      "needs_background": "light"
     },
     "output_type": "display_data"
    }
   ],
   "source": [
    "# Compute confusion matrix\n",
    "nbada_matrix = confusion_matrix(y_test, y_mnb_ada)\n",
    "np.set_printoptions(precision=2)\n",
    "plt.figure()\n",
    "plot_confusion_matrix(nbada_matrix, classes=class_names,\n",
    "                      title='Naive Bayes - ADASYN')"
   ]
  }
 ],
 "metadata": {
  "kernelspec": {
   "display_name": "Python 3",
   "language": "python",
   "name": "python3"
  },
  "language_info": {
   "codemirror_mode": {
    "name": "ipython",
    "version": 3
   },
   "file_extension": ".py",
   "mimetype": "text/x-python",
   "name": "python",
   "nbconvert_exporter": "python",
   "pygments_lexer": "ipython3",
   "version": "3.6.4"
  }
 },
 "nbformat": 4,
 "nbformat_minor": 2
}
